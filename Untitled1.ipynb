{
  "nbformat": 4,
  "nbformat_minor": 0,
  "metadata": {
    "colab": {
      "provenance": [],
      "gpuType": "T4",
      "include_colab_link": true
    },
    "kernelspec": {
      "name": "python3",
      "display_name": "Python 3"
    },
    "language_info": {
      "name": "python"
    },
    "accelerator": "GPU"
  },
  "cells": [
    {
      "cell_type": "markdown",
      "metadata": {
        "id": "view-in-github",
        "colab_type": "text"
      },
      "source": [
        "<a href=\"https://colab.research.google.com/github/MadhuraSudke/Breast-Cancer-Detection-using-CNN/blob/main/Untitled1.ipynb\" target=\"_parent\"><img src=\"https://colab.research.google.com/assets/colab-badge.svg\" alt=\"Open In Colab\"/></a>"
      ]
    },
    {
      "cell_type": "code",
      "execution_count": null,
      "metadata": {
        "id": "qd1t9APbthBI"
      },
      "outputs": [],
      "source": [
        "import pandas as pd\n",
        "import numpy as np\n",
        "import matplotlib.pyplot as plt\n",
        "import seaborn as sns\n",
        "import tensorflow as tf"
      ]
    },
    {
      "cell_type": "code",
      "source": [
        "#loading the data\n",
        "train_mass_data = pd.read_csv('/content/drive/MyDrive/data/csv/mass_case_description_train_set.csv')\n",
        "test_mass_data = pd.read_csv('/content/drive/MyDrive/data/csv/mass_case_description_test_set.csv')\n",
        "train_calc_data = pd.read_csv('/content/drive/MyDrive/data/csv/calc_case_description_train_set.csv')\n",
        "test_calc_data = pd.read_csv('/content/drive/MyDrive/data/csv/calc_case_description_test_set.csv')\n",
        "meta_data = pd.read_csv('/content/drive/MyDrive/data/csv/meta.csv')\n",
        "dicom_info =pd.read_csv('/content/drive/MyDrive/data/csv/dicom_info.csv')\n",
        "\n",
        "#printing the data in the files\n",
        "print(\"Mass Train Data:\\n\", train_mass_data.head())\n",
        "print(\"Calc Train Data:\\n\", train_calc_data.head())\n",
        "print(\"Meta Data:\\n\", meta_data.head())\n",
        "print(\"DICOM Info:\\n\", dicom_info.head())"
      ],
      "metadata": {
        "colab": {
          "base_uri": "https://localhost:8080/"
        },
        "id": "Xc2JLD3C1vrt",
        "outputId": "6ecfa5de-64be-4129-cf07-4aefc030333b"
      },
      "execution_count": null,
      "outputs": [
        {
          "output_type": "stream",
          "name": "stdout",
          "text": [
            "Mass Train Data:\n",
            "   patient_id  breast_density left or right breast image view  abnormality id  \\\n",
            "0    P_00001               3                 LEFT         CC               1   \n",
            "1    P_00001               3                 LEFT        MLO               1   \n",
            "2    P_00004               3                 LEFT         CC               1   \n",
            "3    P_00004               3                 LEFT        MLO               1   \n",
            "4    P_00004               3                RIGHT        MLO               1   \n",
            "\n",
            "  abnormality type                          mass shape   mass margins  \\\n",
            "0             mass  IRREGULAR-ARCHITECTURAL_DISTORTION     SPICULATED   \n",
            "1             mass  IRREGULAR-ARCHITECTURAL_DISTORTION     SPICULATED   \n",
            "2             mass            ARCHITECTURAL_DISTORTION    ILL_DEFINED   \n",
            "3             mass            ARCHITECTURAL_DISTORTION    ILL_DEFINED   \n",
            "4             mass                                OVAL  CIRCUMSCRIBED   \n",
            "\n",
            "   assessment  pathology  subtlety  \\\n",
            "0           4  MALIGNANT         4   \n",
            "1           4  MALIGNANT         4   \n",
            "2           4     BENIGN         3   \n",
            "3           4     BENIGN         3   \n",
            "4           4     BENIGN         5   \n",
            "\n",
            "                                     image file path  \\\n",
            "0  Mass-Training_P_00001_LEFT_CC/1.3.6.1.4.1.9590...   \n",
            "1  Mass-Training_P_00001_LEFT_MLO/1.3.6.1.4.1.959...   \n",
            "2  Mass-Training_P_00004_LEFT_CC/1.3.6.1.4.1.9590...   \n",
            "3  Mass-Training_P_00004_LEFT_MLO/1.3.6.1.4.1.959...   \n",
            "4  Mass-Training_P_00004_RIGHT_MLO/1.3.6.1.4.1.95...   \n",
            "\n",
            "                             cropped image file path  \\\n",
            "0  Mass-Training_P_00001_LEFT_CC_1/1.3.6.1.4.1.95...   \n",
            "1  Mass-Training_P_00001_LEFT_MLO_1/1.3.6.1.4.1.9...   \n",
            "2  Mass-Training_P_00004_LEFT_CC_1/1.3.6.1.4.1.95...   \n",
            "3  Mass-Training_P_00004_LEFT_MLO_1/1.3.6.1.4.1.9...   \n",
            "4  Mass-Training_P_00004_RIGHT_MLO_1/1.3.6.1.4.1....   \n",
            "\n",
            "                                  ROI mask file path  \n",
            "0  Mass-Training_P_00001_LEFT_CC_1/1.3.6.1.4.1.95...  \n",
            "1  Mass-Training_P_00001_LEFT_MLO_1/1.3.6.1.4.1.9...  \n",
            "2  Mass-Training_P_00004_LEFT_CC_1/1.3.6.1.4.1.95...  \n",
            "3  Mass-Training_P_00004_LEFT_MLO_1/1.3.6.1.4.1.9...  \n",
            "4  Mass-Training_P_00004_RIGHT_MLO_1/1.3.6.1.4.1....  \n",
            "Calc Train Data:\n",
            "   patient_id  breast density left or right breast image view  abnormality id  \\\n",
            "0    P_00005               3                RIGHT         CC               1   \n",
            "1    P_00005               3                RIGHT        MLO               1   \n",
            "2    P_00007               4                 LEFT         CC               1   \n",
            "3    P_00007               4                 LEFT        MLO               1   \n",
            "4    P_00008               1                 LEFT         CC               1   \n",
            "\n",
            "  abnormality type    calc type calc distribution  assessment  \\\n",
            "0    calcification    AMORPHOUS         CLUSTERED           3   \n",
            "1    calcification    AMORPHOUS         CLUSTERED           3   \n",
            "2    calcification  PLEOMORPHIC            LINEAR           4   \n",
            "3    calcification  PLEOMORPHIC            LINEAR           4   \n",
            "4    calcification          NaN          REGIONAL           2   \n",
            "\n",
            "                 pathology  subtlety  \\\n",
            "0                MALIGNANT         3   \n",
            "1                MALIGNANT         3   \n",
            "2                   BENIGN         4   \n",
            "3                   BENIGN         4   \n",
            "4  BENIGN_WITHOUT_CALLBACK         3   \n",
            "\n",
            "                                     image file path  \\\n",
            "0  Calc-Training_P_00005_RIGHT_CC/1.3.6.1.4.1.959...   \n",
            "1  Calc-Training_P_00005_RIGHT_MLO/1.3.6.1.4.1.95...   \n",
            "2  Calc-Training_P_00007_LEFT_CC/1.3.6.1.4.1.9590...   \n",
            "3  Calc-Training_P_00007_LEFT_MLO/1.3.6.1.4.1.959...   \n",
            "4  Calc-Training_P_00008_LEFT_CC/1.3.6.1.4.1.9590...   \n",
            "\n",
            "                             cropped image file path  \\\n",
            "0  Calc-Training_P_00005_RIGHT_CC_1/1.3.6.1.4.1.9...   \n",
            "1  Calc-Training_P_00005_RIGHT_MLO_1/1.3.6.1.4.1....   \n",
            "2  Calc-Training_P_00007_LEFT_CC_1/1.3.6.1.4.1.95...   \n",
            "3  Calc-Training_P_00007_LEFT_MLO_1/1.3.6.1.4.1.9...   \n",
            "4  Calc-Training_P_00008_LEFT_CC_1/1.3.6.1.4.1.95...   \n",
            "\n",
            "                                  ROI mask file path  \n",
            "0  Calc-Training_P_00005_RIGHT_CC_1/1.3.6.1.4.1.9...  \n",
            "1  Calc-Training_P_00005_RIGHT_MLO_1/1.3.6.1.4.1....  \n",
            "2  Calc-Training_P_00007_LEFT_CC_1/1.3.6.1.4.1.95...  \n",
            "3  Calc-Training_P_00007_LEFT_MLO_1/1.3.6.1.4.1.9...  \n",
            "4  Calc-Training_P_00008_LEFT_CC_1/1.3.6.1.4.1.95...  \n",
            "Meta Data:\n",
            "                                    SeriesInstanceUID  \\\n",
            "0  1.3.6.1.4.1.9590.100.1.2.117041576511324414842...   \n",
            "1  1.3.6.1.4.1.9590.100.1.2.438738396107617880132...   \n",
            "2  1.3.6.1.4.1.9590.100.1.2.767416741131676463382...   \n",
            "3  1.3.6.1.4.1.9590.100.1.2.296931352612305599800...   \n",
            "4  1.3.6.1.4.1.9590.100.1.2.436657670120353100077...   \n",
            "\n",
            "                                    StudyInstanceUID Modality  \\\n",
            "0  1.3.6.1.4.1.9590.100.1.2.229361142710768138411...       MG   \n",
            "1  1.3.6.1.4.1.9590.100.1.2.195593486612988388325...       MG   \n",
            "2  1.3.6.1.4.1.9590.100.1.2.257901172612530623323...       MG   \n",
            "3  1.3.6.1.4.1.9590.100.1.2.109468616710242115222...       MG   \n",
            "4  1.3.6.1.4.1.9590.100.1.2.380627129513562450304...       MG   \n",
            "\n",
            "  SeriesDescription BodyPartExamined  SeriesNumber Collection  Visibility  \\\n",
            "0   ROI mask images           BREAST             1  CBIS-DDSM           1   \n",
            "1   ROI mask images           BREAST             1  CBIS-DDSM           1   \n",
            "2   ROI mask images           BREAST             1  CBIS-DDSM           1   \n",
            "3   ROI mask images           BREAST             1  CBIS-DDSM           1   \n",
            "4   ROI mask images           BREAST             1  CBIS-DDSM           1   \n",
            "\n",
            "   ImageCount  \n",
            "0           2  \n",
            "1           2  \n",
            "2           2  \n",
            "3           2  \n",
            "4           2  \n",
            "DICOM Info:\n",
            "                                            file_path  \\\n",
            "0  CBIS-DDSM/dicom/1.3.6.1.4.1.9590.100.1.2.12930...   \n",
            "1  CBIS-DDSM/dicom/1.3.6.1.4.1.9590.100.1.2.24838...   \n",
            "2  CBIS-DDSM/dicom/1.3.6.1.4.1.9590.100.1.2.26721...   \n",
            "3  CBIS-DDSM/dicom/1.3.6.1.4.1.9590.100.1.2.38118...   \n",
            "4  CBIS-DDSM/dicom/1.3.6.1.4.1.9590.100.1.2.38118...   \n",
            "\n",
            "                                          image_path  AccessionNumber  \\\n",
            "0  CBIS-DDSM/jpeg/1.3.6.1.4.1.9590.100.1.2.129308...              NaN   \n",
            "1  CBIS-DDSM/jpeg/1.3.6.1.4.1.9590.100.1.2.248386...              NaN   \n",
            "2  CBIS-DDSM/jpeg/1.3.6.1.4.1.9590.100.1.2.267213...              NaN   \n",
            "3  CBIS-DDSM/jpeg/1.3.6.1.4.1.9590.100.1.2.381187...              NaN   \n",
            "4  CBIS-DDSM/jpeg/1.3.6.1.4.1.9590.100.1.2.381187...              NaN   \n",
            "\n",
            "   BitsAllocated  BitsStored BodyPartExamined  Columns  ContentDate  \\\n",
            "0             16          16           BREAST      351     20160426   \n",
            "1             16          16           BREAST     3526     20160426   \n",
            "2             16          16           BREAST     1546     20160503   \n",
            "3             16          16           BREAST       97     20160503   \n",
            "4              8           8      Left Breast     3104     20160503   \n",
            "\n",
            "   ContentTime ConversionType  ...  \\\n",
            "0   131732.685            WSD  ...   \n",
            "1   143829.101            WSD  ...   \n",
            "2   111956.298            WSD  ...   \n",
            "3   115347.770            WSD  ...   \n",
            "4   115347.770            WSD  ...   \n",
            "\n",
            "   SecondaryCaptureDeviceManufacturerModelName      SeriesDescription  \\\n",
            "0                                       MATLAB         cropped images   \n",
            "1                                       MATLAB  full mammogram images   \n",
            "2                                       MATLAB  full mammogram images   \n",
            "3                                       MATLAB         cropped images   \n",
            "4                                       MATLAB                    NaN   \n",
            "\n",
            "                                   SeriesInstanceUID SeriesNumber  \\\n",
            "0  1.3.6.1.4.1.9590.100.1.2.129308726812851964007...            1   \n",
            "1  1.3.6.1.4.1.9590.100.1.2.248386742010678582309...            1   \n",
            "2  1.3.6.1.4.1.9590.100.1.2.267213171011171858918...            1   \n",
            "3  1.3.6.1.4.1.9590.100.1.2.381187369611524586537...            1   \n",
            "4  1.3.6.1.4.1.9590.100.1.2.381187369611524586537...            1   \n",
            "\n",
            "  SmallestImagePixelValue  SpecificCharacterSet   StudyDate StudyID  \\\n",
            "0                   23078            ISO_IR 100  20160720.0    DDSM   \n",
            "1                       0            ISO_IR 100  20160720.0    DDSM   \n",
            "2                       0            ISO_IR 100  20160807.0    DDSM   \n",
            "3                   32298            ISO_IR 100  20170829.0    DDSM   \n",
            "4                       0            ISO_IR 100         NaN    DDSM   \n",
            "\n",
            "                                    StudyInstanceUID  StudyTime  \n",
            "0  1.3.6.1.4.1.9590.100.1.2.271867287611061855725...   214951.0  \n",
            "1  1.3.6.1.4.1.9590.100.1.2.161516517311681906612...   193426.0  \n",
            "2  1.3.6.1.4.1.9590.100.1.2.291043622711253836701...   161814.0  \n",
            "3  1.3.6.1.4.1.9590.100.1.2.335006093711888937440...   180109.0  \n",
            "4  1.3.6.1.4.1.9590.100.1.2.335006093711888937440...        NaN  \n",
            "\n",
            "[5 rows x 38 columns]\n"
          ]
        }
      ]
    },
    {
      "cell_type": "code",
      "source": [
        "# Select and rename key columns for mass and calc data, adjusting for minor name differences\n",
        "mass_train_clean = train_mass_data[['breast_density', 'mass shape', 'mass margins', 'assessment', 'pathology']].dropna()\n",
        "mass_test_clean = test_mass_data[['breast_density', 'mass shape', 'mass margins', 'assessment', 'pathology']].dropna()\n",
        "calc_train_clean = train_calc_data[['breast density', 'calc type', 'calc distribution', 'assessment', 'pathology']].dropna()\n",
        "calc_test_clean = test_calc_data[['breast density', 'calc type', 'calc distribution', 'assessment', 'pathology']].dropna()\n",
        "\n",
        "# Display shapes to confirm cleaning\n",
        "print(\"Cleaned Mass Train Shape:\", mass_train_clean.shape)\n",
        "print(\"Cleaned Calc Train Shape:\", calc_train_clean.shape)\n"
      ],
      "metadata": {
        "colab": {
          "base_uri": "https://localhost:8080/"
        },
        "id": "1P36i1Bf55u4",
        "outputId": "d31847ab-cbd5-4153-8f2f-f12bd8d1aa6a"
      },
      "execution_count": null,
      "outputs": [
        {
          "output_type": "stream",
          "name": "stdout",
          "text": [
            "Cleaned Mass Train Shape: (1273, 5)\n",
            "Cleaned Calc Train Shape: (1150, 5)\n"
          ]
        }
      ]
    },
    {
      "cell_type": "code",
      "source": [
        "#check the coloum name\n",
        "print(\"Mass Train Columns:\", mass_train_clean.columns)\n",
        "print(\"Meta Data Columns:\", meta_data.columns)\n",
        "print(\"DICOM Info Columns:\", dicom_info.columns)\n"
      ],
      "metadata": {
        "colab": {
          "base_uri": "https://localhost:8080/"
        },
        "id": "Ep3pD0kp6pfR",
        "outputId": "cce07265-b6b9-471e-ccff-a43d1983fca4"
      },
      "execution_count": null,
      "outputs": [
        {
          "output_type": "stream",
          "name": "stdout",
          "text": [
            "Mass Train Columns: Index(['breast_density', 'mass shape', 'mass margins', 'assessment',\n",
            "       'pathology'],\n",
            "      dtype='object')\n",
            "Meta Data Columns: Index(['SeriesInstanceUID', 'StudyInstanceUID', 'Modality',\n",
            "       'SeriesDescription', 'BodyPartExamined', 'SeriesNumber', 'Collection',\n",
            "       'Visibility', 'ImageCount'],\n",
            "      dtype='object')\n",
            "DICOM Info Columns: Index(['file_path', 'image_path', 'AccessionNumber', 'BitsAllocated',\n",
            "       'BitsStored', 'BodyPartExamined', 'Columns', 'ContentDate',\n",
            "       'ContentTime', 'ConversionType', 'HighBit', 'InstanceNumber',\n",
            "       'LargestImagePixelValue', 'Laterality', 'Modality', 'PatientBirthDate',\n",
            "       'PatientID', 'PatientName', 'PatientOrientation', 'PatientSex',\n",
            "       'PhotometricInterpretation', 'PixelRepresentation',\n",
            "       'ReferringPhysicianName', 'Rows', 'SOPClassUID', 'SOPInstanceUID',\n",
            "       'SamplesPerPixel', 'SecondaryCaptureDeviceManufacturer',\n",
            "       'SecondaryCaptureDeviceManufacturerModelName', 'SeriesDescription',\n",
            "       'SeriesInstanceUID', 'SeriesNumber', 'SmallestImagePixelValue',\n",
            "       'SpecificCharacterSet', 'StudyDate', 'StudyID', 'StudyInstanceUID',\n",
            "       'StudyTime'],\n",
            "      dtype='object')\n"
          ]
        }
      ]
    },
    {
      "cell_type": "code",
      "source": [
        "#plotting and visualize the distribution of pathology\n",
        "plt.figure(figsize=(8,5))\n",
        "sns.countplot(data=mass_train_clean, x='pathology')\n",
        "plt.title(\"Distribution of pathalogy in mass cases (Train)\")\n",
        "plt.show()"
      ],
      "metadata": {
        "colab": {
          "base_uri": "https://localhost:8080/",
          "height": 487
        },
        "id": "tSUjGZElmDmd",
        "outputId": "9a012689-6e11-42fd-8b9f-aa7a46cd6052"
      },
      "execution_count": null,
      "outputs": [
        {
          "output_type": "display_data",
          "data": {
            "text/plain": [
              "<Figure size 800x500 with 1 Axes>"
            ],
            "image/png": "[encoded data removed]"
          },
          "metadata": {}
        }
      ]
    },
    {
      "cell_type": "code",
      "source": [
        "#  relationship between 'assessment' scores and 'pathology'\n",
        "plt.figure(figsize=(10, 6))\n",
        "sns.boxplot(data=calc_train_clean, x='pathology', y='assessment')\n",
        "plt.title(\"Assessment Scores by Pathology in Calcification Cases\")\n",
        "plt.show()\n"
      ],
      "metadata": {
        "colab": {
          "base_uri": "https://localhost:8080/",
          "height": 564
        },
        "id": "3X59vnKXp01M",
        "outputId": "0acdbd43-2850-46ee-91a6-8dc21d4f25fe"
      },
      "execution_count": null,
      "outputs": [
        {
          "output_type": "display_data",
          "data": {
            "text/plain": [
              "<Figure size 1000x600 with 1 Axes>"
            ],
            "image/png": "[encoded data removed]"
          },
          "metadata": {}
        }
      ]
    },
    {
      "cell_type": "code",
      "source": [
        "# image processing\n",
        "from tensorflow.keras.preprocessing.image import load_img, img_to_array\n"
      ],
      "metadata": {
        "id": "XBUTujamAQ9E"
      },
      "execution_count": null,
      "outputs": []
    },
    {
      "cell_type": "code",
      "source": [
        "def load_and_preprocessing_image(file_path):\n",
        "  img = load_img(file_path, target_size=(224,224))\n",
        "  # for normalizing the pixel values\n",
        "  img_array = img_to_array(img)/225.0\n",
        "  return img_array\n",
        "train_mass_data = pd.read_csv('/content/drive/MyDrive/data/csv/mass_case_description_train_set.csv')\n",
        "print(train_mass_data.columns)\n",
        "\n"
      ],
      "metadata": {
        "colab": {
          "base_uri": "https://localhost:8080/"
        },
        "id": "kFDDibZlERLd",
        "outputId": "d751d335-acdc-4cd5-bbef-421730a4dce8"
      },
      "execution_count": null,
      "outputs": [
        {
          "output_type": "stream",
          "name": "stdout",
          "text": [
            "Index(['patient_id', 'breast_density', 'left or right breast', 'image view',\n",
            "       'abnormality id', 'abnormality type', 'mass shape', 'mass margins',\n",
            "       'assessment', 'pathology', 'subtlety', 'image file path',\n",
            "       'cropped image file path', 'ROI mask file path'],\n",
            "      dtype='object')\n"
          ]
        }
      ]
    },
    {
      "cell_type": "code",
      "source": [
        "# display image\n",
        "sample_image_path = train_mass_data['image file path'].iloc[0]\n",
        "sample_image = load_and_preprocessing_image(sample_image_path)\n",
        "plt.imshow(sample_image)\n",
        "plt.title(\"sample image\")\n",
        "plt.show()"
      ],
      "metadata": {
        "colab": {
          "base_uri": "https://localhost:8080/",
          "height": 411
        },
        "id": "_sJJ87opH8zQ",
        "outputId": "b9ad8923-ce4a-4038-97b1-0b215b8bf6e6"
      },
      "execution_count": null,
      "outputs": [
        {
          "output_type": "error",
          "ename": "FileNotFoundError",
          "evalue": "[Errno 2] No such file or directory: 'Mass-Training_P_00001_LEFT_CC/1.3.6.1.4.1.9590.100.1.2.422112722213189649807611434612228974994/1.3.6.1.4.1.9590.100.1.2.342386194811267636608694132590482924515/000000.dcm'",
          "traceback": [
            "\u001b[0;31m---------------------------------------------------------------------------\u001b[0m",
            "\u001b[0;31mFileNotFoundError\u001b[0m                         Traceback (most recent call last)",
            "\u001b[0;32m<ipython-input-18-8fb14208a078>\u001b[0m in \u001b[0;36m<cell line: 3>\u001b[0;34m()\u001b[0m\n\u001b[1;32m      1\u001b[0m \u001b[0;31m# display image\u001b[0m\u001b[0;34m\u001b[0m\u001b[0;34m\u001b[0m\u001b[0m\n\u001b[1;32m      2\u001b[0m \u001b[0msample_image_path\u001b[0m \u001b[0;34m=\u001b[0m \u001b[0mtrain_mass_data\u001b[0m\u001b[0;34m[\u001b[0m\u001b[0;34m'image file path'\u001b[0m\u001b[0;34m]\u001b[0m\u001b[0;34m.\u001b[0m\u001b[0miloc\u001b[0m\u001b[0;34m[\u001b[0m\u001b[0;36m0\u001b[0m\u001b[0;34m]\u001b[0m\u001b[0;34m\u001b[0m\u001b[0;34m\u001b[0m\u001b[0m\n\u001b[0;32m----> 3\u001b[0;31m \u001b[0msample_image\u001b[0m \u001b[0;34m=\u001b[0m \u001b[0mload_and_preprocessing_image\u001b[0m\u001b[0;34m(\u001b[0m\u001b[0msample_image_path\u001b[0m\u001b[0;34m)\u001b[0m\u001b[0;34m\u001b[0m\u001b[0;34m\u001b[0m\u001b[0m\n\u001b[0m\u001b[1;32m      4\u001b[0m \u001b[0mplt\u001b[0m\u001b[0;34m.\u001b[0m\u001b[0mimshow\u001b[0m\u001b[0;34m(\u001b[0m\u001b[0msample_image\u001b[0m\u001b[0;34m)\u001b[0m\u001b[0;34m\u001b[0m\u001b[0;34m\u001b[0m\u001b[0m\n\u001b[1;32m      5\u001b[0m \u001b[0mplt\u001b[0m\u001b[0;34m.\u001b[0m\u001b[0mtitle\u001b[0m\u001b[0;34m(\u001b[0m\u001b[0;34m\"sample image\"\u001b[0m\u001b[0;34m)\u001b[0m\u001b[0;34m\u001b[0m\u001b[0;34m\u001b[0m\u001b[0m\n",
            "\u001b[0;32m<ipython-input-17-21a088b5e6d4>\u001b[0m in \u001b[0;36mload_and_preprocessing_image\u001b[0;34m(file_path)\u001b[0m\n\u001b[1;32m      1\u001b[0m \u001b[0;32mdef\u001b[0m \u001b[0mload_and_preprocessing_image\u001b[0m\u001b[0;34m(\u001b[0m\u001b[0mfile_path\u001b[0m\u001b[0;34m)\u001b[0m\u001b[0;34m:\u001b[0m\u001b[0;34m\u001b[0m\u001b[0;34m\u001b[0m\u001b[0m\n\u001b[0;32m----> 2\u001b[0;31m   \u001b[0mimg\u001b[0m \u001b[0;34m=\u001b[0m \u001b[0mload_img\u001b[0m\u001b[0;34m(\u001b[0m\u001b[0mfile_path\u001b[0m\u001b[0;34m,\u001b[0m \u001b[0mtarget_size\u001b[0m\u001b[0;34m=\u001b[0m\u001b[0;34m(\u001b[0m\u001b[0;36m224\u001b[0m\u001b[0;34m,\u001b[0m\u001b[0;36m224\u001b[0m\u001b[0;34m)\u001b[0m\u001b[0;34m)\u001b[0m\u001b[0;34m\u001b[0m\u001b[0;34m\u001b[0m\u001b[0m\n\u001b[0m\u001b[1;32m      3\u001b[0m   \u001b[0;31m# for normalizing the pixel values\u001b[0m\u001b[0;34m\u001b[0m\u001b[0;34m\u001b[0m\u001b[0m\n\u001b[1;32m      4\u001b[0m   \u001b[0mimg_array\u001b[0m \u001b[0;34m=\u001b[0m \u001b[0mimg_to_array\u001b[0m\u001b[0;34m(\u001b[0m\u001b[0mimg\u001b[0m\u001b[0;34m)\u001b[0m\u001b[0;34m/\u001b[0m\u001b[0;36m225.0\u001b[0m\u001b[0;34m\u001b[0m\u001b[0;34m\u001b[0m\u001b[0m\n\u001b[1;32m      5\u001b[0m   \u001b[0;32mreturn\u001b[0m \u001b[0mimg_array\u001b[0m\u001b[0;34m\u001b[0m\u001b[0;34m\u001b[0m\u001b[0m\n",
            "\u001b[0;32m/usr/local/lib/python3.10/dist-packages/keras/src/utils/image_utils.py\u001b[0m in \u001b[0;36mload_img\u001b[0;34m(path, color_mode, target_size, interpolation, keep_aspect_ratio)\u001b[0m\n\u001b[1;32m    233\u001b[0m         \u001b[0;32mif\u001b[0m \u001b[0misinstance\u001b[0m\u001b[0;34m(\u001b[0m\u001b[0mpath\u001b[0m\u001b[0;34m,\u001b[0m \u001b[0mpathlib\u001b[0m\u001b[0;34m.\u001b[0m\u001b[0mPath\u001b[0m\u001b[0;34m)\u001b[0m\u001b[0;34m:\u001b[0m\u001b[0;34m\u001b[0m\u001b[0;34m\u001b[0m\u001b[0m\n\u001b[1;32m    234\u001b[0m             \u001b[0mpath\u001b[0m \u001b[0;34m=\u001b[0m \u001b[0mstr\u001b[0m\u001b[0;34m(\u001b[0m\u001b[0mpath\u001b[0m\u001b[0;34m.\u001b[0m\u001b[0mresolve\u001b[0m\u001b[0;34m(\u001b[0m\u001b[0;34m)\u001b[0m\u001b[0;34m)\u001b[0m\u001b[0;34m\u001b[0m\u001b[0;34m\u001b[0m\u001b[0m\n\u001b[0;32m--> 235\u001b[0;31m         \u001b[0;32mwith\u001b[0m \u001b[0mopen\u001b[0m\u001b[0;34m(\u001b[0m\u001b[0mpath\u001b[0m\u001b[0;34m,\u001b[0m \u001b[0;34m\"rb\"\u001b[0m\u001b[0;34m)\u001b[0m \u001b[0;32mas\u001b[0m \u001b[0mf\u001b[0m\u001b[0;34m:\u001b[0m\u001b[0;34m\u001b[0m\u001b[0;34m\u001b[0m\u001b[0m\n\u001b[0m\u001b[1;32m    236\u001b[0m             \u001b[0mimg\u001b[0m \u001b[0;34m=\u001b[0m \u001b[0mpil_image\u001b[0m\u001b[0;34m.\u001b[0m\u001b[0mopen\u001b[0m\u001b[0;34m(\u001b[0m\u001b[0mio\u001b[0m\u001b[0;34m.\u001b[0m\u001b[0mBytesIO\u001b[0m\u001b[0;34m(\u001b[0m\u001b[0mf\u001b[0m\u001b[0;34m.\u001b[0m\u001b[0mread\u001b[0m\u001b[0;34m(\u001b[0m\u001b[0;34m)\u001b[0m\u001b[0;34m)\u001b[0m\u001b[0;34m)\u001b[0m\u001b[0;34m\u001b[0m\u001b[0;34m\u001b[0m\u001b[0m\n\u001b[1;32m    237\u001b[0m     \u001b[0;32melse\u001b[0m\u001b[0;34m:\u001b[0m\u001b[0;34m\u001b[0m\u001b[0;34m\u001b[0m\u001b[0m\n",
            "\u001b[0;31mFileNotFoundError\u001b[0m: [Errno 2] No such file or directory: 'Mass-Training_P_00001_LEFT_CC/1.3.6.1.4.1.9590.100.1.2.422112722213189649807611434612228974994/1.3.6.1.4.1.9590.100.1.2.342386194811267636608694132590482924515/000000.dcm'"
          ]
        }
      ]
    }
  ]
}